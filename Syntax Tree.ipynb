{
 "cells": [
  {
   "cell_type": "code",
   "execution_count": null,
   "metadata": {},
   "outputs": [],
   "source": [
    "import ast\n",
    "\n",
    "def create_syntax_tree(code: str) -> ast.AST:\n",
    "    return ast.parse(code)\n",
    "\n",
    "tree = create_syntax_tree(\"a * b + c\")\n",
    "print(tree)\n",
    "print(ast.dump(tree))\n",
    "\n",
    "\n",
    "class VariableVisitor(ast.NodeVisitor):\n",
    "    def visit_Name(self, node):\n",
    "        print(node.id)\n",
    "\n",
    "tree = create_syntax_tree(\"a * b + c\")\n",
    "visitor = VariableVisitor()\n",
    "visitor.visit(tree)\n"
   ]
  }
 ],
 "metadata": {
  "kernelspec": {
   "display_name": "Python 3",
   "language": "python",
   "name": "python3"
  },
  "language_info": {
   "name": "python",
   "version": "3.11.0 (main, Oct 24 2022, 18:26:48) [MSC v.1933 64 bit (AMD64)]"
  },
  "orig_nbformat": 4,
  "vscode": {
   "interpreter": {
    "hash": "379fe8e10ded02fa94a29b4b37a41c7d80f19320dc2f2cadbccf353975fbaaa0"
   }
  }
 },
 "nbformat": 4,
 "nbformat_minor": 2
}
